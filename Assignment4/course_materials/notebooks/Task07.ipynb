{
  "cells": [
    {
      "cell_type": "markdown",
      "metadata": {
        "id": "nOOPLCHF7hLB"
      },
      "source": [
        "**Task 07: Querying RDF(s)**"
      ]
    },
    {
      "cell_type": "code",
      "execution_count": 1,
      "metadata": {
        "colab": {
          "base_uri": "https://localhost:8080/"
        },
        "id": "Yl9npCt8n6m-",
        "outputId": "7c548d44-ccf2-452b-b491-d78aefa1bbc2"
      },
      "outputs": [
        {
          "output_type": "stream",
          "name": "stdout",
          "text": [
            "Looking in indexes: https://pypi.org/simple, https://us-python.pkg.dev/colab-wheels/public/simple/\n",
            "Collecting rdflib\n",
            "  Downloading rdflib-6.2.0-py3-none-any.whl (500 kB)\n",
            "\u001b[K     |████████████████████████████████| 500 kB 15.8 MB/s \n",
            "\u001b[?25hCollecting isodate\n",
            "  Downloading isodate-0.6.1-py2.py3-none-any.whl (41 kB)\n",
            "\u001b[K     |████████████████████████████████| 41 kB 445 kB/s \n",
            "\u001b[?25hRequirement already satisfied: importlib-metadata in /usr/local/lib/python3.7/dist-packages (from rdflib) (4.12.0)\n",
            "Requirement already satisfied: setuptools in /usr/local/lib/python3.7/dist-packages (from rdflib) (57.4.0)\n",
            "Requirement already satisfied: pyparsing in /usr/local/lib/python3.7/dist-packages (from rdflib) (3.0.9)\n",
            "Requirement already satisfied: zipp>=0.5 in /usr/local/lib/python3.7/dist-packages (from importlib-metadata->rdflib) (3.8.1)\n",
            "Requirement already satisfied: typing-extensions>=3.6.4 in /usr/local/lib/python3.7/dist-packages (from importlib-metadata->rdflib) (4.1.1)\n",
            "Requirement already satisfied: six in /usr/local/lib/python3.7/dist-packages (from isodate->rdflib) (1.15.0)\n",
            "Installing collected packages: isodate, rdflib\n",
            "Successfully installed isodate-0.6.1 rdflib-6.2.0\n"
          ]
        }
      ],
      "source": [
        "!pip install rdflib \n",
        "github_storage = \"https://raw.githubusercontent.com/FacultadInformatica-LinkedData/Curso2021-2022/master/Assignment4/course_materials\""
      ]
    },
    {
      "cell_type": "markdown",
      "metadata": {
        "id": "XY7aPc86Bqoo"
      },
      "source": [
        "Leemos el fichero RDF de la forma que lo hemos venido haciendo"
      ]
    },
    {
      "cell_type": "code",
      "execution_count": 2,
      "metadata": {
        "colab": {
          "base_uri": "https://localhost:8080/"
        },
        "id": "9ERh415on7kF",
        "outputId": "e0b9c400-daee-454f-ca46-b40cea790dab"
      },
      "outputs": [
        {
          "output_type": "execute_result",
          "data": {
            "text/plain": [
              "<Graph identifier=N97e3722e36f54e1ba86a125f08875dc1 (<class 'rdflib.graph.Graph'>)>"
            ]
          },
          "metadata": {},
          "execution_count": 2
        }
      ],
      "source": [
        "from rdflib import Graph, Namespace, Literal\n",
        "from rdflib.namespace import RDF, RDFS\n",
        "g = Graph()\n",
        "g.namespace_manager.bind('ns', Namespace(\"http://somewhere#\"), override=False)\n",
        "g.namespace_manager.bind('vcard', Namespace(\"http://www.w3.org/2001/vcard-rdf/3.0#\"), override=False)\n",
        "g.parse(github_storage+\"/rdf/example6.rdf\", format=\"xml\")"
      ]
    },
    {
      "cell_type": "markdown",
      "metadata": {
        "id": "qp1oe2Eddsvo"
      },
      "source": [
        "**TASK 7.1: List all subclasses of \"Person\" with RDFLib and SPARQL**"
      ]
    },
    {
      "cell_type": "code",
      "execution_count": 79,
      "metadata": {
        "colab": {
          "base_uri": "https://localhost:8080/"
        },
        "id": "tRcSWuMHOXBl",
        "outputId": "d3f986b1-d555-4655-c8d7-c1e74a91e284"
      },
      "outputs": [
        {
          "output_type": "stream",
          "name": "stdout",
          "text": [
            "http://somewhere#Researcher\n"
          ]
        }
      ],
      "source": [
        "from rdflib.plugins.sparql import prepareQuery\n",
        "\n",
        "q1 = prepareQuery('''\n",
        "  SELECT ?Sub\n",
        "    WHERE{\n",
        "      ?Sub rdfs:subClassOf <http://somewhere#Person>\n",
        "    }\n",
        "    '''\n",
        "      )\n",
        "for r in g.query(q1):\n",
        "  print(r.Sub)"
      ]
    },
    {
      "cell_type": "markdown",
      "metadata": {
        "id": "gM3DASkTQQ5Y"
      },
      "source": [
        "**TASK 7.2: List all individuals of \"Person\" with RDFLib and SPARQL (remember the subClasses)**\n"
      ]
    },
    {
      "cell_type": "code",
      "execution_count": 83,
      "metadata": {
        "colab": {
          "base_uri": "https://localhost:8080/"
        },
        "id": "LiKSPHRzS-XJ",
        "outputId": "aebbee81-e45f-43c9-d203-2e7f9461297b"
      },
      "outputs": [
        {
          "output_type": "stream",
          "name": "stdout",
          "text": [
            "http://somewhere#Researcher http://somewhere#SaraJones\n",
            "http://somewhere#Researcher http://somewhere#JohnSmith\n"
          ]
        }
      ],
      "source": [
        "q2 = prepareQuery('''\n",
        "  SELECT ?Sub ?Person\n",
        "    WHERE{\n",
        "      ?Sub rdfs:subClassOf <http://somewhere#Person> .\n",
        "      ?Person rdf:type <http://somewhere#Person> .\n",
        "      }\n",
        "      '''\n",
        "      )\n",
        "for r in g.query(q2):\n",
        "  print(r.Sub, r.Person)"
      ]
    },
    {
      "cell_type": "markdown",
      "metadata": {
        "id": "MXBqtBkJd22I"
      },
      "source": [
        "**TASK 7.3: List all individuals of \"Person\" and all their properties including their class with RDFLib and SPARQL**\n"
      ]
    },
    {
      "cell_type": "code",
      "execution_count": 77,
      "metadata": {
        "colab": {
          "base_uri": "https://localhost:8080/"
        },
        "id": "APQGv3NHX8Tf",
        "outputId": "fd5148b3-44d5-4f6e-e11b-3594aeb7dd95"
      },
      "outputs": [
        {
          "output_type": "stream",
          "name": "stdout",
          "text": [
            "http://somewhere#SaraJones http://somewhere#JaneSmith\n",
            "http://somewhere#SaraJones http://somewhere#SaraJones\n",
            "http://somewhere#SaraJones http://somewhere#http://www.w3.org/2001/vcard-rdf/3.0/FN\n",
            "http://somewhere#SaraJones http://somewhere#JohnSmith\n",
            "http://somewhere#SaraJones http://somewhere#http://www.w3.org/2001/vcard-rdf/3.0/FN\n",
            "http://somewhere#SaraJones http://somewhere#UPM\n",
            "http://somewhere#SaraJones http://somewhere#Researcher\n",
            "http://somewhere#SaraJones http://somewhere#SaraJones\n",
            "http://somewhere#SaraJones http://somewhere#JohnSmith\n",
            "http://somewhere#SaraJones http://somewhere#JohnSmith\n",
            "http://somewhere#SaraJones http://somewhere#http://www.w3.org/2001/vcard-rdf/3.0/Given\n",
            "http://somewhere#SaraJones http://somewhere#PhDstudent\n",
            "http://somewhere#SaraJones http://somewhere#SaraJones\n",
            "http://somewhere#SaraJones http://somewhere#http://www.w3.org/2001/vcard-rdf/3.0/Family\n",
            "http://somewhere#SaraJones http://somewhere#University\n",
            "http://somewhere#SaraJones http://somewhere#JohnSmith\n",
            "http://somewhere#SaraJones http://somewhere#Person\n",
            "http://somewhere#SaraJones http://somewhere#Researcher\n",
            "http://somewhere#SaraJones http://somewhere#http://www.w3.org/2001/vcard-rdf/3.0/Given\n",
            "http://somewhere#SaraJones http://somewhere#SaraJones\n",
            "http://somewhere#SaraJones http://somewhere#http://www.w3.org/2001/vcard-rdf/3.0/Family\n",
            "http://somewhere#SaraJones http://somewhere#JaneSmith\n",
            "http://somewhere#SaraJones http://somewhere#JaneSmith\n",
            "http://somewhere#SaraJones http://somewhere#JaneSmith\n",
            "http://somewhere#SaraJones http://somewhere#PhDstudent\n",
            "http://somewhere#JohnSmith http://somewhere#JaneSmith\n",
            "http://somewhere#JohnSmith http://somewhere#SaraJones\n",
            "http://somewhere#JohnSmith http://somewhere#http://www.w3.org/2001/vcard-rdf/3.0/FN\n",
            "http://somewhere#JohnSmith http://somewhere#JohnSmith\n",
            "http://somewhere#JohnSmith http://somewhere#http://www.w3.org/2001/vcard-rdf/3.0/FN\n",
            "http://somewhere#JohnSmith http://somewhere#UPM\n",
            "http://somewhere#JohnSmith http://somewhere#Researcher\n",
            "http://somewhere#JohnSmith http://somewhere#SaraJones\n",
            "http://somewhere#JohnSmith http://somewhere#JohnSmith\n",
            "http://somewhere#JohnSmith http://somewhere#JohnSmith\n",
            "http://somewhere#JohnSmith http://somewhere#http://www.w3.org/2001/vcard-rdf/3.0/Given\n",
            "http://somewhere#JohnSmith http://somewhere#PhDstudent\n",
            "http://somewhere#JohnSmith http://somewhere#SaraJones\n",
            "http://somewhere#JohnSmith http://somewhere#http://www.w3.org/2001/vcard-rdf/3.0/Family\n",
            "http://somewhere#JohnSmith http://somewhere#University\n",
            "http://somewhere#JohnSmith http://somewhere#JohnSmith\n",
            "http://somewhere#JohnSmith http://somewhere#Person\n",
            "http://somewhere#JohnSmith http://somewhere#Researcher\n",
            "http://somewhere#JohnSmith http://somewhere#http://www.w3.org/2001/vcard-rdf/3.0/Given\n",
            "http://somewhere#JohnSmith http://somewhere#SaraJones\n",
            "http://somewhere#JohnSmith http://somewhere#http://www.w3.org/2001/vcard-rdf/3.0/Family\n",
            "http://somewhere#JohnSmith http://somewhere#JaneSmith\n",
            "http://somewhere#JohnSmith http://somewhere#JaneSmith\n",
            "http://somewhere#JohnSmith http://somewhere#JaneSmith\n",
            "http://somewhere#JohnSmith http://somewhere#PhDstudent\n"
          ]
        }
      ],
      "source": [
        "\n",
        "q3 = prepareQuery('''\n",
        "  SELECT ?Sub ?Person ?prop\n",
        "    WHERE{\n",
        "      ?Sub rdf:type <http://somewhere#Person> .\n",
        "      ?Person ?porp ?z .\n",
        "      }\n",
        "      '''\n",
        "      )\n",
        "for r in g.query(q3):\n",
        "  print(r.Sub, r.Person)"
      ]
    }
  ],
  "metadata": {
    "colab": {
      "collapsed_sections": [],
      "provenance": []
    },
    "kernelspec": {
      "display_name": "Python 3 (ipykernel)",
      "language": "python",
      "name": "python3"
    },
    "language_info": {
      "codemirror_mode": {
        "name": "ipython",
        "version": 3
      },
      "file_extension": ".py",
      "mimetype": "text/x-python",
      "name": "python",
      "nbconvert_exporter": "python",
      "pygments_lexer": "ipython3",
      "version": "3.9.5"
    }
  },
  "nbformat": 4,
  "nbformat_minor": 0
}
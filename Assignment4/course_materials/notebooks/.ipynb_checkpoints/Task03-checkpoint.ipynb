{
 "cells": [
  {
   "cell_type": "markdown",
   "metadata": {
    "colab_type": "text",
    "id": "e-bs2rTSdTWK"
   },
   "source": [
    "**TASK 3: Statement-based query**"
   ]
  },
  {
   "cell_type": "code",
   "execution_count": 1,
   "metadata": {
    "colab": {
     "base_uri": "https://localhost:8080/",
     "height": 191
    },
    "colab_type": "code",
    "executionInfo": {
     "elapsed": 4437,
     "status": "ok",
     "timestamp": 1600032468447,
     "user": {
      "displayName": "D D",
      "photoUrl": "https://lh3.googleusercontent.com/a-/AOh14Gh6T1hnprK5j2SM-Y3y4pgVo02G8ksIIlcrc3t3fA=s64",
      "userId": "13287914887952271965"
     },
     "user_tz": -120
    },
    "id": "1nL5f5LXIU64",
    "outputId": "c1bf7ec7-4266-4a02-e8f8-3ac20624e5ff"
   },
   "outputs": [
    {
     "name": "stdout",
     "output_type": "stream",
     "text": [
      "Requirement already satisfied: rdflib in /home/dgarijo/Documents/GitHub/Curso2021-2022/env_3.9/lib/python3.9/site-packages (6.0.1)\r\n",
      "Requirement already satisfied: setuptools in /home/dgarijo/Documents/GitHub/Curso2021-2022/env_3.9/lib/python3.9/site-packages (from rdflib) (44.1.1)\r\n",
      "Requirement already satisfied: isodate in /home/dgarijo/Documents/GitHub/Curso2021-2022/env_3.9/lib/python3.9/site-packages (from rdflib) (0.6.0)\r\n",
      "Requirement already satisfied: pyparsing in /home/dgarijo/Documents/GitHub/Curso2021-2022/env_3.9/lib/python3.9/site-packages (from rdflib) (2.4.7)\r\n",
      "Requirement already satisfied: six in /home/dgarijo/Documents/GitHub/Curso2021-2022/env_3.9/lib/python3.9/site-packages (from isodate->rdflib) (1.16.0)\r\n"
     ]
    }
   ],
   "source": [
    "!pip install rdflib\n",
    "github_storage = \"https://raw.githubusercontent.com/FacultadInformatica-LinkedData/Curso2022-2023/master/Assignment4/course_materials\""
   ]
  },
  {
   "cell_type": "markdown",
   "metadata": {
    "colab_type": "text",
    "id": "Q2MKrR3ko_OX"
   },
   "source": [
    "Importamos example3.rdf en nuestro grafo"
   ]
  },
  {
   "cell_type": "code",
   "execution_count": 1,
   "metadata": {
    "colab": {
     "base_uri": "https://localhost:8080/",
     "height": 34
    },
    "colab_type": "code",
    "executionInfo": {
     "elapsed": 1198,
     "status": "ok",
     "timestamp": 1599646347379,
     "user": {
      "displayName": "D D",
      "photoUrl": "https://lh3.googleusercontent.com/a-/AOh14Gh6T1hnprK5j2SM-Y3y4pgVo02G8ksIIlcrc3t3fA=s64",
      "userId": "13287914887952271965"
     },
     "user_tz": -120
    },
    "id": "hoa1F3UZjPJB",
    "outputId": "5cfdd3a5-4b45-4513-db22-4ba5fb3bbc9d"
   },
   "outputs": [
    {
     "ename": "NameError",
     "evalue": "name 'github_storage' is not defined",
     "output_type": "error",
     "traceback": [
      "\u001b[1;31m---------------------------------------------------------------------------\u001b[0m",
      "\u001b[1;31mNameError\u001b[0m                                 Traceback (most recent call last)",
      "Input \u001b[1;32mIn [1]\u001b[0m, in \u001b[0;36m<module>\u001b[1;34m\u001b[0m\n\u001b[0;32m      1\u001b[0m \u001b[38;5;28;01mfrom\u001b[39;00m \u001b[38;5;21;01mrdflib\u001b[39;00m \u001b[38;5;28;01mimport\u001b[39;00m Graph, Namespace, Literal\n\u001b[0;32m      2\u001b[0m g \u001b[38;5;241m=\u001b[39m Graph()\n\u001b[1;32m----> 3\u001b[0m g\u001b[38;5;241m.\u001b[39mparse(\u001b[43mgithub_storage\u001b[49m\u001b[38;5;241m+\u001b[39m\u001b[38;5;124m\"\u001b[39m\u001b[38;5;124m/rdf/example3.rdf\u001b[39m\u001b[38;5;124m\"\u001b[39m, \u001b[38;5;28mformat\u001b[39m\u001b[38;5;241m=\u001b[39m\u001b[38;5;124m\"\u001b[39m\u001b[38;5;124mxml\u001b[39m\u001b[38;5;124m\"\u001b[39m)\n",
      "\u001b[1;31mNameError\u001b[0m: name 'github_storage' is not defined"
     ]
    },
    {
     "name": "stderr",
     "output_type": "stream",
     "text": [
      "--- Logging error ---\n",
      "Traceback (most recent call last):\n",
      "  File \"C:\\Users\\34628\\AppData\\Local\\Programs\\Python\\Python310\\lib\\site-packages\\ipykernel\\kernelbase.py\", line 461, in dispatch_queue\n",
      "    await self.process_one()\n",
      "  File \"C:\\Users\\34628\\AppData\\Local\\Programs\\Python\\Python310\\lib\\site-packages\\ipykernel\\kernelbase.py\", line 450, in process_one\n",
      "    await dispatch(*args)\n",
      "TypeError: object NoneType can't be used in 'await' expression\n",
      "\n",
      "During handling of the above exception, another exception occurred:\n",
      "\n",
      "Traceback (most recent call last):\n",
      "  File \"C:\\Users\\34628\\AppData\\Local\\Programs\\Python\\Python310\\lib\\logging\\__init__.py\", line 1101, in emit\n",
      "    stream.write(msg + self.terminator)\n",
      "OSError: [Errno 22] Invalid argument\n",
      "Call stack:\n",
      "  File \"C:\\Users\\34628\\AppData\\Local\\Programs\\Python\\Python310\\lib\\runpy.py\", line 196, in _run_module_as_main\n",
      "    return _run_code(code, main_globals, None,\n",
      "  File \"C:\\Users\\34628\\AppData\\Local\\Programs\\Python\\Python310\\lib\\runpy.py\", line 86, in _run_code\n",
      "    exec(code, run_globals)\n",
      "  File \"C:\\Users\\34628\\AppData\\Local\\Programs\\Python\\Python310\\lib\\site-packages\\ipykernel_launcher.py\", line 16, in <module>\n",
      "    app.launch_new_instance()\n",
      "  File \"C:\\Users\\34628\\AppData\\Local\\Programs\\Python\\Python310\\lib\\site-packages\\traitlets\\config\\application.py\", line 846, in launch_instance\n",
      "    app.start()\n",
      "  File \"C:\\Users\\34628\\AppData\\Local\\Programs\\Python\\Python310\\lib\\site-packages\\ipykernel\\kernelapp.py\", line 677, in start\n",
      "    self.io_loop.start()\n",
      "  File \"C:\\Users\\34628\\AppData\\Local\\Programs\\Python\\Python310\\lib\\site-packages\\tornado\\platform\\asyncio.py\", line 199, in start\n",
      "    self.asyncio_loop.run_forever()\n",
      "  File \"C:\\Users\\34628\\AppData\\Local\\Programs\\Python\\Python310\\lib\\asyncio\\base_events.py\", line 595, in run_forever\n",
      "    self._run_once()\n",
      "  File \"C:\\Users\\34628\\AppData\\Local\\Programs\\Python\\Python310\\lib\\asyncio\\base_events.py\", line 1881, in _run_once\n",
      "    handle._run()\n",
      "  File \"C:\\Users\\34628\\AppData\\Local\\Programs\\Python\\Python310\\lib\\asyncio\\events.py\", line 80, in _run\n",
      "    self._context.run(self._callback, *self._args)\n",
      "  File \"C:\\Users\\34628\\AppData\\Local\\Programs\\Python\\Python310\\lib\\site-packages\\ipykernel\\kernelbase.py\", line 463, in dispatch_queue\n",
      "    self.log.exception(\"Error in message handler\")\n",
      "Message: 'Error in message handler'\n",
      "Arguments: ()\n"
     ]
    }
   ],
   "source": [
    "from rdflib import Graph, Namespace, Literal\n",
    "g = Graph()\n",
    "g.parse(github_storage+\"/rdf/example3.rdf\", format=\"xml\")"
   ]
  },
  {
   "cell_type": "markdown",
   "metadata": {
    "colab_type": "text",
    "id": "N91ApjNcoWUb"
   },
   "source": [
    "Listamos todos los recursos con la propiedad VCARD:FN"
   ]
  },
  {
   "cell_type": "code",
   "execution_count": 3,
   "metadata": {
    "colab": {
     "base_uri": "https://localhost:8080/",
     "height": 86
    },
    "colab_type": "code",
    "executionInfo": {
     "elapsed": 1035,
     "status": "ok",
     "timestamp": 1599646351168,
     "user": {
      "displayName": "D D",
      "photoUrl": "https://lh3.googleusercontent.com/a-/AOh14Gh6T1hnprK5j2SM-Y3y4pgVo02G8ksIIlcrc3t3fA=s64",
      "userId": "13287914887952271965"
     },
     "user_tz": -120
    },
    "id": "HZvdSsYPob9c",
    "outputId": "46ae8da6-b062-4b92-ba7f-01a50a1fc24a"
   },
   "outputs": [
    {
     "name": "stdout",
     "output_type": "stream",
     "text": [
      "http://somewhere#JaneSmith\n",
      "http://somewhere#JohnSmith\n",
      "http://somewhere#SarahJones\n",
      "http://somewhere#MattJones\n"
     ]
    }
   ],
   "source": [
    "VCARD = Namespace(\"http://www.w3.org/2001/vcard-rdf/3.0#\")\n",
    "\n",
    "for s,p,o in g.triples((None, VCARD.FN, None)):\n",
    "  print(s)"
   ]
  },
  {
   "cell_type": "markdown",
   "metadata": {
    "colab_type": "text",
    "id": "AwON24ezpGER"
   },
   "source": [
    "Listamos ahora el nombre completo (VCARD:FN) de estos recursos"
   ]
  },
  {
   "cell_type": "code",
   "execution_count": 4,
   "metadata": {
    "colab": {
     "base_uri": "https://localhost:8080/",
     "height": 86
    },
    "colab_type": "code",
    "executionInfo": {
     "elapsed": 849,
     "status": "ok",
     "timestamp": 1599646367281,
     "user": {
      "displayName": "D D",
      "photoUrl": "https://lh3.googleusercontent.com/a-/AOh14Gh6T1hnprK5j2SM-Y3y4pgVo02G8ksIIlcrc3t3fA=s64",
      "userId": "13287914887952271965"
     },
     "user_tz": -120
    },
    "id": "GuUH14N_qMw5",
    "outputId": "0888ae6f-750c-4980-9e20-9ba1bbb7c54a"
   },
   "outputs": [
    {
     "name": "stdout",
     "output_type": "stream",
     "text": [
      "Jane Smith\n",
      "John Smith\n",
      "Sarah Jones\n",
      "Matt Jones\n"
     ]
    }
   ],
   "source": [
    "for s,p,o in g.triples((None, VCARD.FN, None)):\n",
    "  print(o)"
   ]
  },
  {
   "cell_type": "markdown",
   "metadata": {
    "colab_type": "text",
    "id": "Li7h14r1qdNC"
   },
   "source": [
    "Listamos ahora todos los recursos que tienen el nombre de familia \"Smith\", debemos tener en cuenta el tipo de dato de nuestro literales a la hora de realizar búsquedas. En nuestro ejemplo los literales están tipados como XSD String (http://www.w3.org/2001/XMLSchema#string) y al buscar debemos indicarlo, de lo contrario la comparación fallará aunque las cadenas de texto sean iguales."
   ]
  },
  {
   "cell_type": "code",
   "execution_count": 8,
   "metadata": {
    "colab": {
     "base_uri": "https://localhost:8080/",
     "height": 72
    },
    "colab_type": "code",
    "executionInfo": {
     "elapsed": 1710,
     "status": "ok",
     "timestamp": 1599646372234,
     "user": {
      "displayName": "D D",
      "photoUrl": "https://lh3.googleusercontent.com/a-/AOh14Gh6T1hnprK5j2SM-Y3y4pgVo02G8ksIIlcrc3t3fA=s64",
      "userId": "13287914887952271965"
     },
     "user_tz": -120
    },
    "id": "U8yF1N5IqqIx",
    "outputId": "cdac9107-06c7-4ebe-ee80-938a9bdf3126"
   },
   "outputs": [
    {
     "name": "stdout",
     "output_type": "stream",
     "text": [
      "(rdflib.term.URIRef('http://somewhere#JaneSmith'), rdflib.term.URIRef('http://www.w3.org/2001/vcard-rdf/3.0#Family'), rdflib.term.Literal('Smith', datatype=rdflib.term.URIRef('http://www.w3.org/2001/XMLSchema#string')))\n",
      "(rdflib.term.URIRef('http://somewhere#JohnSmith'), rdflib.term.URIRef('http://www.w3.org/2001/vcard-rdf/3.0#Family'), rdflib.term.Literal('Smith', datatype=rdflib.term.URIRef('http://www.w3.org/2001/XMLSchema#string')))\n"
     ]
    }
   ],
   "source": [
    "from rdflib import XSD\n",
    "for t in g.triples((None, VCARD.Family, Literal('Smith', datatype=XSD.string))):\n",
    "  print(t)"
   ]
  },
  {
   "cell_type": "code",
   "execution_count": 7,
   "metadata": {
    "colab": {
     "base_uri": "https://localhost:8080/",
     "height": 121
    },
    "colab_type": "code",
    "executionInfo": {
     "elapsed": 905,
     "status": "ok",
     "timestamp": 1599646381367,
     "user": {
      "displayName": "D D",
      "photoUrl": "https://lh3.googleusercontent.com/a-/AOh14Gh6T1hnprK5j2SM-Y3y4pgVo02G8ksIIlcrc3t3fA=s64",
      "userId": "13287914887952271965"
     },
     "user_tz": -120
    },
    "id": "G8ZwYJAAr_a-",
    "outputId": "ff4675a6-a131-4695-be42-f33c750fe742"
   },
   "outputs": [
    {
     "name": "stdout",
     "output_type": "stream",
     "text": [
      "False\n",
      "False\n",
      "False\n",
      "True\n",
      "http://www.w3.org/2001/XMLSchema#integer\n",
      "None\n"
     ]
    },
    {
     "name": "stderr",
     "output_type": "stream",
     "text": [
      "/tmp/ipykernel_24348/2638366893.py:1: UserWarning: Code: number is not defined in namespace XSD\n",
      "  print(Literal(1, datatype=XSD.number).eq(Literal(\"1\", datatype=XSD.string)))\n",
      "/tmp/ipykernel_24348/2638366893.py:2: UserWarning: Code: number is not defined in namespace XSD\n",
      "  print(Literal(1, datatype=XSD.number).eq(Literal(1, datatype=XSD.string)))\n",
      "/tmp/ipykernel_24348/2638366893.py:3: UserWarning: Code: number is not defined in namespace XSD\n",
      "  print(Literal(1).eq(Literal(1, datatype=XSD.number)))\n",
      "/tmp/ipykernel_24348/2638366893.py:4: UserWarning: Code: number is not defined in namespace XSD\n",
      "  print(Literal(1, datatype=XSD.number).eq(Literal(1, datatype=XSD.number)))\n"
     ]
    }
   ],
   "source": [
    "print(Literal(1, datatype=XSD.number).eq(Literal(\"1\", datatype=XSD.string)))\n",
    "print(Literal(1, datatype=XSD.number).eq(Literal(1, datatype=XSD.string)))\n",
    "print(Literal(1).eq(Literal(1, datatype=XSD.number)))\n",
    "print(Literal(1, datatype=XSD.number).eq(Literal(1, datatype=XSD.number)))\n",
    "print(Literal(1).datatype)\n",
    "print(Literal(\"1\").datatype)"
   ]
  },
  {
   "cell_type": "markdown",
   "metadata": {
    "colab_type": "text",
    "id": "JH874OClyxdV"
   },
   "source": [
    "Listamos todos los recursos que contienen un email"
   ]
  },
  {
   "cell_type": "code",
   "execution_count": 9,
   "metadata": {
    "colab": {
     "base_uri": "https://localhost:8080/",
     "height": 52
    },
    "colab_type": "code",
    "executionInfo": {
     "elapsed": 1009,
     "status": "ok",
     "timestamp": 1599646401115,
     "user": {
      "displayName": "D D",
      "photoUrl": "https://lh3.googleusercontent.com/a-/AOh14Gh6T1hnprK5j2SM-Y3y4pgVo02G8ksIIlcrc3t3fA=s64",
      "userId": "13287914887952271965"
     },
     "user_tz": -120
    },
    "id": "Wi4kiUdty6KW",
    "outputId": "4dcc7a92-d836-4399-fedb-f66c17664f27"
   },
   "outputs": [
    {
     "name": "stdout",
     "output_type": "stream",
     "text": [
      "http://somewhere#JaneSmith http://xmlns.com/foaf/0.1/email jSmith@somewhere.com\n",
      "http://somewhere#SarahJones http://xmlns.com/foaf/0.1/email sJones@somewhere.com\n"
     ]
    }
   ],
   "source": [
    "#from rdflib import FOAF\n",
    "FOAF = Namespace(\"http://xmlns.com/foaf/0.1/\")\n",
    "for s,p,o in g.triples((None, FOAF.email, None)):\n",
    "  print(s,p,o)"
   ]
  },
  {
   "cell_type": "markdown",
   "metadata": {
    "colab_type": "text",
    "id": "HAKPjbEf3WxX"
   },
   "source": [
    "Listamos ahora todos los sujetos que conocen a \"Jane Smith\" (VCARD:FN) por su nombre de pila (VCARD:Given). Cuando sepamos que vamos a obtener un solo resultado podemos emplear la función value indicando cada parámetro conocido (solo uno debe ser None)."
   ]
  },
  {
   "cell_type": "code",
   "execution_count": 9,
   "metadata": {
    "colab": {
     "base_uri": "https://localhost:8080/",
     "height": 52
    },
    "colab_type": "code",
    "executionInfo": {
     "elapsed": 860,
     "status": "ok",
     "timestamp": 1599646412464,
     "user": {
      "displayName": "D D",
      "photoUrl": "https://lh3.googleusercontent.com/a-/AOh14Gh6T1hnprK5j2SM-Y3y4pgVo02G8ksIIlcrc3t3fA=s64",
      "userId": "13287914887952271965"
     },
     "user_tz": -120
    },
    "id": "dGSw7O-c3pCr",
    "outputId": "fc203e4e-e92f-41fc-be32-4f59c63e2023"
   },
   "outputs": [
    {
     "name": "stdout",
     "output_type": "stream",
     "text": [
      "John\n",
      "Matt\n"
     ]
    }
   ],
   "source": [
    "janeSmithURI = g.value(subject=None, predicate=VCARD.FN, object=Literal(\"Jane Smith\"))\n",
    "\n",
    "knows = g.triples((None, FOAF.knows, janeSmithURI))\n",
    "\n",
    "for s,p,o in knows:\n",
    "  \n",
    "  givenName = g.value(subject=s, predicate=VCARD.Given, object=None)\n",
    "\n",
    "  print(givenName)"
   ]
  },
  {
   "cell_type": "code",
   "execution_count": null,
   "metadata": {},
   "outputs": [],
   "source": []
  }
 ],
 "metadata": {
  "colab": {
   "authorship_tag": "ABX9TyOxxelWXHDYXx+oC9VOb+4l",
   "collapsed_sections": [],
   "name": "Task03.ipynb",
   "provenance": []
  },
  "kernelspec": {
   "display_name": "Python 3 (ipykernel)",
   "language": "python",
   "name": "python3"
  },
  "language_info": {
   "codemirror_mode": {
    "name": "ipython",
    "version": 3
   },
   "file_extension": ".py",
   "mimetype": "text/x-python",
   "name": "python",
   "nbconvert_exporter": "python",
   "pygments_lexer": "ipython3",
   "version": "3.10.0"
  }
 },
 "nbformat": 4,
 "nbformat_minor": 1
}

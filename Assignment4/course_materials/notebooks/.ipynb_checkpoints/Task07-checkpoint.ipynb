{
 "cells": [
  {
   "cell_type": "markdown",
   "metadata": {
    "id": "nOOPLCHF7hLB"
   },
   "source": [
    "**Task 07: Querying RDF(s)**"
   ]
  },
  {
   "cell_type": "code",
   "execution_count": 2,
   "metadata": {
    "colab": {
     "base_uri": "https://localhost:8080/",
     "height": 211
    },
    "executionInfo": {
     "elapsed": 4475,
     "status": "ok",
     "timestamp": 1601221302273,
     "user": {
      "displayName": "Manuel Mazarro Vicente",
      "photoUrl": "",
      "userId": "00468940320268997826"
     },
     "user_tz": -120
    },
    "id": "Yl9npCt8n6m-",
    "outputId": "096014c0-f1ad-4bd6-bada-ab3561ff1367",
    "scrolled": true
   },
   "outputs": [
    {
     "name": "stdout",
     "output_type": "stream",
     "text": [
      "Requirement already satisfied: rdflib in c:\\users\\34628\\appdata\\local\\programs\\python\\python310\\lib\\site-packages (6.2.0)\n",
      "Requirement already satisfied: pyparsing in c:\\users\\34628\\appdata\\local\\programs\\python\\python310\\lib\\site-packages (from rdflib) (3.0.7)\n",
      "Requirement already satisfied: isodate in c:\\users\\34628\\appdata\\local\\programs\\python\\python310\\lib\\site-packages (from rdflib) (0.6.1)\n",
      "Requirement already satisfied: setuptools in c:\\users\\34628\\appdata\\local\\programs\\python\\python310\\lib\\site-packages (from rdflib) (57.4.0)\n",
      "Requirement already satisfied: six in c:\\users\\34628\\appdata\\local\\programs\\python\\python310\\lib\\site-packages (from isodate->rdflib) (1.16.0)\n"
     ]
    }
   ],
   "source": [
    "!pip install rdflib \n",
    "github_storage = \"https://raw.githubusercontent.com/FacultadInformatica-LinkedData/Curso2022-2023/master/Assignment4/course_materials\""
   ]
  },
  {
   "cell_type": "markdown",
   "metadata": {
    "id": "XY7aPc86Bqoo"
   },
   "source": [
    "Leemos el fichero RDF de la forma que lo hemos venido haciendo"
   ]
  },
  {
   "cell_type": "code",
   "execution_count": 3,
   "metadata": {
    "colab": {
     "base_uri": "https://localhost:8080/",
     "height": 35
    },
    "executionInfo": {
     "elapsed": 915,
     "status": "ok",
     "timestamp": 1601221305543,
     "user": {
      "displayName": "Manuel Mazarro Vicente",
      "photoUrl": "",
      "userId": "00468940320268997826"
     },
     "user_tz": -120
    },
    "id": "9ERh415on7kF",
    "outputId": "395dc571-ef76-4330-cf4b-0b9db3aa5277"
   },
   "outputs": [
    {
     "data": {
      "text/plain": [
       "<Graph identifier=N7b20dd0ca7c24f65889833542be51460 (<class 'rdflib.graph.Graph'>)>"
      ]
     },
     "execution_count": 3,
     "metadata": {},
     "output_type": "execute_result"
    }
   ],
   "source": [
    "from rdflib import Graph, Namespace, Literal\n",
    "from rdflib.namespace import RDF, RDFS\n",
    "g = Graph()\n",
    "g.namespace_manager.bind('ns', Namespace(\"http://somewhere#\"), override=False)\n",
    "g.namespace_manager.bind('vcard', Namespace(\"http://www.w3.org/2001/vcard-rdf/3.0#\"), override=False)\n",
    "g.parse(github_storage+\"/rdf/example6.rdf\", format=\"xml\")"
   ]
  },
  {
   "cell_type": "markdown",
   "metadata": {
    "id": "qp1oe2Eddsvo"
   },
   "source": [
    "**TASK 7.1: List all subclasses of \"Person\" with RDFLib and SPARQL**"
   ]
  },
  {
   "cell_type": "code",
   "execution_count": 6,
   "metadata": {
    "colab": {
     "base_uri": "https://localhost:8080/",
     "height": 52
    },
    "executionInfo": {
     "elapsed": 7050,
     "status": "ok",
     "timestamp": 1601222246450,
     "user": {
      "displayName": "Manuel Mazarro Vicente",
      "photoUrl": "",
      "userId": "00468940320268997826"
     },
     "user_tz": -120
    },
    "id": "tRcSWuMHOXBl",
    "outputId": "b6bffa57-06fc-493c-e38d-14cc6f63bea9"
   },
   "outputs": [],
   "source": [
    "from rdflib.plugins.sparql import prepareQuery\n",
    "\n",
    "ns = Namespace(\"http://somewhere#\")\n",
    "q1 = prepareQuery('''\n",
    "  SELECT ?Subject WHERE { \n",
    "    ?Subject rdfs:subclassOf ns:Person.\n",
    "  }\n",
    "  ''',\n",
    "  initNs = { \"rdfs\": RDFS, \"ns\": ns}\n",
    ")\n",
    "# Visualize the results\n",
    "\n",
    "for r in g.query(q1):\n",
    "  print(r)"
   ]
  },
  {
   "cell_type": "markdown",
   "metadata": {
    "id": "gM3DASkTQQ5Y"
   },
   "source": [
    "**TASK 7.2: List all individuals of \"Person\" with RDFLib and SPARQL (remember the subClasses)**"
   ]
  },
  {
   "cell_type": "code",
   "execution_count": 1,
   "metadata": {
    "colab": {
     "base_uri": "https://localhost:8080/",
     "height": 121
    },
    "executionInfo": {
     "elapsed": 747,
     "status": "ok",
     "timestamp": 1601223361790,
     "user": {
      "displayName": "Manuel Mazarro Vicente",
      "photoUrl": "",
      "userId": "00468940320268997826"
     },
     "user_tz": -120
    },
    "id": "LiKSPHRzS-XJ",
    "outputId": "ebbe6519-7dc2-4581-b618-da596fda1799"
   },
   "outputs": [
    {
     "ename": "NameError",
     "evalue": "name 'prepareQuery' is not defined",
     "output_type": "error",
     "traceback": [
      "\u001b[1;31m---------------------------------------------------------------------------\u001b[0m",
      "\u001b[1;31mNameError\u001b[0m                                 Traceback (most recent call last)",
      "Input \u001b[1;32mIn [1]\u001b[0m, in \u001b[0;36m<module>\u001b[1;34m\u001b[0m\n\u001b[1;32m----> 1\u001b[0m q1 \u001b[38;5;241m=\u001b[39m \u001b[43mprepareQuery\u001b[49m(\u001b[38;5;124m'''\u001b[39m\n\u001b[0;32m      2\u001b[0m \u001b[38;5;124m  SELECT ?Subject WHERE \u001b[39m\u001b[38;5;124m{\u001b[39m\u001b[38;5;124m \u001b[39m\n\u001b[0;32m      3\u001b[0m \u001b[38;5;124m    ?Subject a ns:Person.\u001b[39m\n\u001b[0;32m      4\u001b[0m \u001b[38;5;124m    OR\u001b[39m\n\u001b[0;32m      5\u001b[0m \u001b[38;5;124m    ?Subject a ?Class\u001b[39m\n\u001b[0;32m      6\u001b[0m \u001b[38;5;124m    ?Class rdfs:subclassOf ns:Person\u001b[39m\n\u001b[0;32m      7\u001b[0m \u001b[38;5;124m  }\u001b[39m\n\u001b[0;32m      8\u001b[0m \u001b[38;5;124m  \u001b[39m\u001b[38;5;124m'''\u001b[39m,\n\u001b[0;32m      9\u001b[0m   initNs \u001b[38;5;241m=\u001b[39m {\u001b[38;5;124m\"\u001b[39m\u001b[38;5;124mrdfs\u001b[39m\u001b[38;5;124m\"\u001b[39m: rdfs, \u001b[38;5;124m\"\u001b[39m\u001b[38;5;124mns\u001b[39m\u001b[38;5;124m\"\u001b[39m: ns}\n\u001b[0;32m     10\u001b[0m )\n\u001b[0;32m     11\u001b[0m \u001b[38;5;66;03m# Visualize the results\u001b[39;00m\n\u001b[0;32m     13\u001b[0m \u001b[38;5;28;01mfor\u001b[39;00m r \u001b[38;5;129;01min\u001b[39;00m g\u001b[38;5;241m.\u001b[39mquery(q1):\n",
      "\u001b[1;31mNameError\u001b[0m: name 'prepareQuery' is not defined"
     ]
    },
    {
     "name": "stderr",
     "output_type": "stream",
     "text": [
      "--- Logging error ---\n",
      "Traceback (most recent call last):\n",
      "  File \"C:\\Users\\34628\\AppData\\Local\\Programs\\Python\\Python310\\lib\\site-packages\\ipykernel\\kernelbase.py\", line 461, in dispatch_queue\n",
      "    await self.process_one()\n",
      "  File \"C:\\Users\\34628\\AppData\\Local\\Programs\\Python\\Python310\\lib\\site-packages\\ipykernel\\kernelbase.py\", line 450, in process_one\n",
      "    await dispatch(*args)\n",
      "TypeError: object NoneType can't be used in 'await' expression\n",
      "\n",
      "During handling of the above exception, another exception occurred:\n",
      "\n",
      "Traceback (most recent call last):\n",
      "  File \"C:\\Users\\34628\\AppData\\Local\\Programs\\Python\\Python310\\lib\\logging\\__init__.py\", line 1101, in emit\n",
      "    stream.write(msg + self.terminator)\n",
      "OSError: [Errno 22] Invalid argument\n",
      "Call stack:\n",
      "  File \"C:\\Users\\34628\\AppData\\Local\\Programs\\Python\\Python310\\lib\\runpy.py\", line 196, in _run_module_as_main\n",
      "    return _run_code(code, main_globals, None,\n",
      "  File \"C:\\Users\\34628\\AppData\\Local\\Programs\\Python\\Python310\\lib\\runpy.py\", line 86, in _run_code\n",
      "    exec(code, run_globals)\n",
      "  File \"C:\\Users\\34628\\AppData\\Local\\Programs\\Python\\Python310\\lib\\site-packages\\ipykernel_launcher.py\", line 16, in <module>\n",
      "    app.launch_new_instance()\n",
      "  File \"C:\\Users\\34628\\AppData\\Local\\Programs\\Python\\Python310\\lib\\site-packages\\traitlets\\config\\application.py\", line 846, in launch_instance\n",
      "    app.start()\n",
      "  File \"C:\\Users\\34628\\AppData\\Local\\Programs\\Python\\Python310\\lib\\site-packages\\ipykernel\\kernelapp.py\", line 677, in start\n",
      "    self.io_loop.start()\n",
      "  File \"C:\\Users\\34628\\AppData\\Local\\Programs\\Python\\Python310\\lib\\site-packages\\tornado\\platform\\asyncio.py\", line 199, in start\n",
      "    self.asyncio_loop.run_forever()\n",
      "  File \"C:\\Users\\34628\\AppData\\Local\\Programs\\Python\\Python310\\lib\\asyncio\\base_events.py\", line 595, in run_forever\n",
      "    self._run_once()\n",
      "  File \"C:\\Users\\34628\\AppData\\Local\\Programs\\Python\\Python310\\lib\\asyncio\\base_events.py\", line 1881, in _run_once\n",
      "    handle._run()\n",
      "  File \"C:\\Users\\34628\\AppData\\Local\\Programs\\Python\\Python310\\lib\\asyncio\\events.py\", line 80, in _run\n",
      "    self._context.run(self._callback, *self._args)\n",
      "  File \"C:\\Users\\34628\\AppData\\Local\\Programs\\Python\\Python310\\lib\\site-packages\\ipykernel\\kernelbase.py\", line 463, in dispatch_queue\n",
      "    self.log.exception(\"Error in message handler\")\n",
      "Message: 'Error in message handler'\n",
      "Arguments: ()\n"
     ]
    }
   ],
   "source": [
    "q1 = prepareQuery('''\n",
    "  SELECT ?Subject WHERE { \n",
    "    ?Subject a ns:Person.\n",
    "    OR\n",
    "    ?Subject a ?Class\n",
    "    ?Class rdfs:subclassOf ns:Person\n",
    "  }\n",
    "  ''',\n",
    "  initNs = {\"rdfs\": RDFS, \"ns\": ns}\n",
    ")\n",
    "# Visualize the results\n",
    "\n",
    "for r in g.query(q1):\n",
    "  print(r)"
   ]
  },
  {
   "cell_type": "markdown",
   "metadata": {
    "id": "MXBqtBkJd22I"
   },
   "source": [
    "**TASK 7.3: List all individuals of \"Person\" and all their properties including their class with RDFLib and SPARQL**"
   ]
  },
  {
   "cell_type": "code",
   "execution_count": 9,
   "metadata": {
    "colab": {
     "base_uri": "https://localhost:8080/",
     "height": 433
    },
    "executionInfo": {
     "elapsed": 856,
     "status": "ok",
     "timestamp": 1601223918812,
     "user": {
      "displayName": "Manuel Mazarro Vicente",
      "photoUrl": "",
      "userId": "00468940320268997826"
     },
     "user_tz": -120
    },
    "id": "APQGv3NHX8Tf",
    "outputId": "a06dc1f0-3dff-4fe4-e211-7ea6498011ef"
   },
   "outputs": [],
   "source": [
    "q1 = prepareQuery('''\n",
    "  SELECT ?Subject ?p ?Object WHERE { \n",
    "    ?Subject a ns:Person.\n",
    "    ?Subject ?p ?Object.\n",
    "  }\n",
    "  ''',\n",
    "  initNs = {\"ns\": ns}\n",
    ")\n",
    "# Visualize the results\n",
    "\n",
    "for r in g.query(q1):\n",
    "  print(r)"
   ]
  }
 ],
 "metadata": {
  "colab": {
   "collapsed_sections": [],
   "name": "Task07.ipynb",
   "provenance": []
  },
  "kernelspec": {
   "display_name": "Python 3 (ipykernel)",
   "language": "python",
   "name": "python3"
  },
  "language_info": {
   "codemirror_mode": {
    "name": "ipython",
    "version": 3
   },
   "file_extension": ".py",
   "mimetype": "text/x-python",
   "name": "python",
   "nbconvert_exporter": "python",
   "pygments_lexer": "ipython3",
   "version": "3.10.0"
  }
 },
 "nbformat": 4,
 "nbformat_minor": 1
}
